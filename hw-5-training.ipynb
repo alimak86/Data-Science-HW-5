{
 "cells": [
  {
   "cell_type": "code",
   "execution_count": 1,
   "metadata": {
    "collapsed": true
   },
   "outputs": [],
   "source": [
    "import os\n",
    "import numpy as np"
   ]
  },
  {
   "cell_type": "code",
   "execution_count": 2,
   "metadata": {
    "collapsed": true
   },
   "outputs": [],
   "source": [
    "import pandas as pd\n",
    "from sklearn import datasets, metrics, svm\n",
    "from sklearn.model_selection import train_test_split\n",
    "from sklearn.metrics import accuracy_score\n",
    "from sklearn import tree"
   ]
  },
  {
   "cell_type": "code",
   "execution_count": 3,
   "metadata": {
    "collapsed": true
   },
   "outputs": [],
   "source": [
    "input_folder = \"data\""
   ]
  },
  {
   "cell_type": "code",
   "execution_count": 4,
   "metadata": {
    "collapsed": true
   },
   "outputs": [],
   "source": [
    "activities = {}"
   ]
  },
  {
   "cell_type": "code",
   "execution_count": 5,
   "metadata": {
    "collapsed": true
   },
   "outputs": [],
   "source": [
    "subfolders = os.listdir(input_folder)"
   ]
  },
  {
   "cell_type": "code",
   "execution_count": 6,
   "metadata": {
    "collapsed": true
   },
   "outputs": [],
   "source": [
    "for folder in subfolders:\n",
    "    test_path = os.path.join(input_folder, folder)\n",
    "    if os.path.isdir(test_path):\n",
    "        activities[folder] = pd.DataFrame()\n",
    "        frames = []\n",
    "        for file in os.listdir(test_path):\n",
    "            test_file = os.path.join(test_path,file)\n",
    "            if os.path.isfile(test_file):\n",
    "                new_dataframe = pd.read_csv(test_file)\n",
    "                frames.append(new_dataframe)\n",
    "        activities[folder]=pd.concat(frames)"
   ]
  },
  {
   "cell_type": "code",
   "execution_count": 7,
   "metadata": {
    "collapsed": true
   },
   "outputs": [],
   "source": [
    "code = 0\n",
    "for key in activities.keys():\n",
    "    activities[key][\"code\"]=key\n",
    "    code+=1"
   ]
  },
  {
   "cell_type": "code",
   "execution_count": 8,
   "metadata": {
    "collapsed": true
   },
   "outputs": [],
   "source": [
    "all_activities = pd.concat([activities[key] for key in activities.keys()])"
   ]
  },
  {
   "cell_type": "code",
   "execution_count": 9,
   "metadata": {
    "collapsed": true
   },
   "outputs": [],
   "source": [
    "clf = svm.SVC()"
   ]
  },
  {
   "cell_type": "code",
   "execution_count": 10,
   "metadata": {
    "collapsed": true
   },
   "outputs": [],
   "source": [
    "dtree_clf = tree.DecisionTreeClassifier()"
   ]
  },
  {
   "cell_type": "code",
   "execution_count": 11,
   "metadata": {
    "collapsed": true
   },
   "outputs": [],
   "source": [
    "# Split data into 50% train and 50% test subsets\n",
    "X_train, X_test, y_train, y_test = train_test_split(\n",
    "    all_activities.iloc[:,:-1], all_activities[\"code\"],test_size=0.2, random_state=42\n",
    ")"
   ]
  },
  {
   "cell_type": "code",
   "execution_count": 12,
   "metadata": {
    "jupyter": {
     "outputs_hidden": true
    }
   },
   "outputs": [
    {
     "data": {
      "text/plain": [
       "DecisionTreeClassifier(class_weight=None, criterion='gini', max_depth=None,\n",
       "            max_features=None, max_leaf_nodes=None,\n",
       "            min_impurity_decrease=0.0, min_impurity_split=None,\n",
       "            min_samples_leaf=1, min_samples_split=2,\n",
       "            min_weight_fraction_leaf=0.0, presort=False, random_state=None,\n",
       "            splitter='best')"
      ]
     },
     "execution_count": 12,
     "metadata": {},
     "output_type": "execute_result"
    }
   ],
   "source": [
    "clf.fit(X_train, y_train)\n",
    "dtree_clf.fit(X_train, y_train)"
   ]
  },
  {
   "cell_type": "code",
   "execution_count": 13,
   "metadata": {
    "collapsed": true
   },
   "outputs": [],
   "source": [
    "clf_y = clf.predict(X_test)\n",
    "dtree_clf_y = dtree_clf.predict(X_test)"
   ]
  },
  {
   "cell_type": "code",
   "execution_count": 14,
   "metadata": {
    "collapsed": true
   },
   "outputs": [],
   "source": [
    "clf_accuracy = accuracy_score(clf_y, y_test)\n",
    "dtree_clf_accuracy = accuracy_score(dtree_clf_y, y_test)"
   ]
  },
  {
   "cell_type": "code",
   "execution_count": 15,
   "metadata": {},
   "outputs": [
    {
     "name": "stdout",
     "output_type": "stream",
     "text": [
      "svm clf accuracy:  0.995098039216\n",
      "decision tree clf accuracy:  0.995098039216\n"
     ]
    }
   ],
   "source": [
    "print(\"svm clf accuracy: \",clf_accuracy)\n",
    "print(\"decision tree clf accuracy: \", dtree_clf_accuracy)"
   ]
  },
  {
   "cell_type": "code",
   "execution_count": 16,
   "metadata": {},
   "outputs": [
    {
     "name": "stdout",
     "output_type": "stream",
     "text": [
      "decision tree clf accuracy:  0.995098039216\n"
     ]
    }
   ],
   "source": [
    "print(\"decision tree clf accuracy: \",dtree_clf_accuracy)"
   ]
  },
  {
   "cell_type": "code",
   "execution_count": 17,
   "metadata": {},
   "outputs": [
    {
     "name": "stdout",
     "output_type": "stream",
     "text": [
      "SVM Results:\n",
      "             precision    recall  f1-score   support\n",
      "\n",
      "       idle       1.00      1.00      1.00        77\n",
      "    running       1.00      1.00      1.00        80\n",
      "     stairs       0.99      0.99      0.99       148\n",
      "    walking       0.99      0.99      0.99       103\n",
      "\n",
      "avg / total       1.00      1.00      1.00       408\n",
      "\n",
      "DecisionTreeClassifier Results:\n",
      "             precision    recall  f1-score   support\n",
      "\n",
      "       idle       1.00      0.99      0.99        78\n",
      "    running       0.99      1.00      0.99        79\n",
      "     stairs       0.99      1.00      1.00       147\n",
      "    walking       1.00      0.99      1.00       104\n",
      "\n",
      "avg / total       1.00      1.00      1.00       408\n",
      "\n"
     ]
    }
   ],
   "source": [
    "from sklearn.metrics import classification_report\n",
    "\n",
    "svm_report = classification_report(clf_y, y_test)\n",
    "print(\"SVM Results:\")\n",
    "print(svm_report)\n",
    "\n",
    "rf_report = classification_report(dtree_clf_y, y_test)\n",
    "print(\"DecisionTreeClassifier Results:\")\n",
    "print(rf_report)"
   ]
  }
 ],
 "metadata": {
  "kernelspec": {
   "display_name": "Python 3",
   "language": "python",
   "name": "python3"
  },
  "language_info": {
   "codemirror_mode": {
    "name": "ipython",
    "version": 3
   },
   "file_extension": ".py",
   "mimetype": "text/x-python",
   "name": "python",
   "nbconvert_exporter": "python",
   "pygments_lexer": "ipython3",
   "version": "3.6.3"
  }
 },
 "nbformat": 4,
 "nbformat_minor": 4
}
